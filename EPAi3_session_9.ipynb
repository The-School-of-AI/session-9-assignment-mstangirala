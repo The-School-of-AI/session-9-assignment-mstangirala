{
  "nbformat": 4,
  "nbformat_minor": 0,
  "metadata": {
    "colab": {
      "name": "EPAi3_session_9.ipynb",
      "provenance": [],
      "collapsed_sections": []
    },
    "kernelspec": {
      "name": "python3",
      "display_name": "Python 3"
    },
    "language_info": {
      "name": "python"
    }
  },
  "cells": [
    {
      "cell_type": "markdown",
      "metadata": {
        "id": "vMrjUXzbOYx8"
      },
      "source": [
        "# pip install faker\n",
        "calculate \n",
        "    1. largest blood type : count the highest appearing blood group in the faker list\n",
        "    2. mean-current_location : mean on the current location\n",
        "    3. oldest_person_age : old person age in the group form now\n",
        "    4. average age: calculate the age of the person and find the avarage of it"
      ]
    },
    {
      "cell_type": "code",
      "metadata": {
        "colab": {
          "base_uri": "https://localhost:8080/"
        },
        "id": "ZB4_M0HEwU56",
        "outputId": "1f2dd4c4-2f35-4198-9b2e-2979bde4e688"
      },
      "source": [
        "pip install Faker"
      ],
      "execution_count": 6,
      "outputs": [
        {
          "output_type": "stream",
          "text": [
            "Requirement already satisfied: Faker in /usr/local/lib/python3.7/dist-packages (8.10.0)\n",
            "Requirement already satisfied: text-unidecode==1.3 in /usr/local/lib/python3.7/dist-packages (from Faker) (1.3)\n",
            "Requirement already satisfied: python-dateutil>=2.4 in /usr/local/lib/python3.7/dist-packages (from Faker) (2.8.1)\n",
            "Requirement already satisfied: six>=1.5 in /usr/local/lib/python3.7/dist-packages (from python-dateutil>=2.4->Faker) (1.15.0)\n"
          ],
          "name": "stdout"
        }
      ]
    },
    {
      "cell_type": "code",
      "metadata": {
        "id": "Tx0987yPACbn"
      },
      "source": [
        "from collections import namedtuple\n",
        "import faker\n",
        "from faker import Faker\n",
        "import datetime\n",
        "from time import perf_counter\n",
        "from functools import wraps\n",
        "import re\n",
        "import random\n",
        "import string\n",
        "from datetime import date\n",
        "fake = Faker()"
      ],
      "execution_count": 7,
      "outputs": []
    },
    {
      "cell_type": "code",
      "metadata": {
        "colab": {
          "base_uri": "https://localhost:8080/"
        },
        "id": "dX56cu-ohVQk",
        "outputId": "8a5158c3-d0a4-4732-b2e2-635490072e5f"
      },
      "source": [
        "fake = Faker()\n",
        "fake.profile()"
      ],
      "execution_count": 8,
      "outputs": [
        {
          "output_type": "execute_result",
          "data": {
            "text/plain": [
              "{'address': '51139 Kathy Village Suite 886\\nNew Jefffort, SD 40372',\n",
              " 'birthdate': datetime.date(1981, 10, 11),\n",
              " 'blood_group': 'AB+',\n",
              " 'company': 'Clayton Ltd',\n",
              " 'current_location': (Decimal('57.370626'), Decimal('-118.063764')),\n",
              " 'job': 'Surveyor, building control',\n",
              " 'mail': 'hallian@yahoo.com',\n",
              " 'name': 'Yolanda Gaines',\n",
              " 'residence': 'PSC 4709, Box 0421\\nAPO AE 20183',\n",
              " 'sex': 'F',\n",
              " 'ssn': '771-48-0216',\n",
              " 'username': 'paulortiz',\n",
              " 'website': ['http://yates.com/']}"
            ]
          },
          "metadata": {
            "tags": []
          },
          "execution_count": 8
        }
      ]
    },
    {
      "cell_type": "code",
      "metadata": {
        "id": "SoljUzYihgvB"
      },
      "source": [
        "Profile = namedtuple('Profile', fake.profile().keys())"
      ],
      "execution_count": 9,
      "outputs": []
    },
    {
      "cell_type": "code",
      "metadata": {
        "id": "BpqJN3FsiiBd"
      },
      "source": [
        "# dir(Profile)"
      ],
      "execution_count": 10,
      "outputs": []
    },
    {
      "cell_type": "code",
      "metadata": {
        "colab": {
          "base_uri": "https://localhost:8080/"
        },
        "id": "xzX5GE45IYUx",
        "outputId": "724e89ac-7ade-4a12-dc74-6208f0614c6d"
      },
      "source": [
        "Profile._fields"
      ],
      "execution_count": 11,
      "outputs": [
        {
          "output_type": "execute_result",
          "data": {
            "text/plain": [
              "('job',\n",
              " 'company',\n",
              " 'ssn',\n",
              " 'residence',\n",
              " 'current_location',\n",
              " 'blood_group',\n",
              " 'website',\n",
              " 'username',\n",
              " 'name',\n",
              " 'sex',\n",
              " 'address',\n",
              " 'mail',\n",
              " 'birthdate')"
            ]
          },
          "metadata": {
            "tags": []
          },
          "execution_count": 11
        }
      ]
    },
    {
      "cell_type": "code",
      "metadata": {
        "id": "0YHH--f7IiGY"
      },
      "source": [
        "#storing data in nametuple\n",
        "x = Profile(**fake.profile())"
      ],
      "execution_count": 12,
      "outputs": []
    },
    {
      "cell_type": "code",
      "metadata": {
        "colab": {
          "base_uri": "https://localhost:8080/"
        },
        "id": "FNG5To9FI-pi",
        "outputId": "4dbb3fc6-f70a-4407-a735-a1ac898cc959"
      },
      "source": [
        "x"
      ],
      "execution_count": 13,
      "outputs": [
        {
          "output_type": "execute_result",
          "data": {
            "text/plain": [
              "Profile(job='Teaching laboratory technician', company='Clark-Cobb', ssn='042-76-0548', residence='3843 Felicia Ways Suite 633\\nPort Valeriebury, AL 53330', current_location=(Decimal('60.670807'), Decimal('135.556526')), blood_group='AB+', website=['http://www.gray.com/', 'http://rodriguez-robinson.biz/', 'http://www.mitchell.com/', 'http://www.mcmillan.com/'], username='yanthony', name='Andrea Copeland', sex='F', address='147 William Squares Suite 487\\nHillside, ME 14701', mail='cadkins@hotmail.com', birthdate=datetime.date(1953, 3, 1))"
            ]
          },
          "metadata": {
            "tags": []
          },
          "execution_count": 13
        }
      ]
    },
    {
      "cell_type": "code",
      "metadata": {
        "id": "t9B_CtrZJaF6"
      },
      "source": [
        "#time function to calculate the run time of a function\n",
        "def timed(func):\n",
        "    @wraps(func)\n",
        "    def wrapper_timed(*args,**kwargs):\n",
        "        start_time = perf_counter()\n",
        "        value = func(*args,**kwargs)\n",
        "        end_time = perf_counter()\n",
        "        elapsed_time = (end_time-start_time)\n",
        "        print('Run time: {0:.6f}s'.format(elapsed_time))\n",
        "        return value\n",
        "    return wrapper_timed"
      ],
      "execution_count": 14,
      "outputs": []
    },
    {
      "cell_type": "code",
      "metadata": {
        "id": "IAuT0XKlHVrI"
      },
      "source": [
        "fake = Faker()\n",
        "\n",
        "def generate_profiles_using_namedtuple(no_profiles: int): \n",
        "    \"\"\"\n",
        "    create a fake profiles using namedtuples\n",
        "    \"\"\"\n",
        "    profiles = []\n",
        "    Profile = namedtuple('Profile', fake.profile().keys())\n",
        "    for i in range(no_profiles):\n",
        "        profiles.append(Profile(**fake.profile()))\n",
        "    return profiles"
      ],
      "execution_count": 15,
      "outputs": []
    },
    {
      "cell_type": "code",
      "metadata": {
        "id": "rbTe-BCGXq1Z"
      },
      "source": [
        "def generate_profiles_using_dictionary(no_profiles: int):\n",
        "    \"\"\"\n",
        "    create a fake profiles using dictornary\n",
        "    \"\"\"\n",
        "    profiles = []\n",
        "    for i in range(no_profiles):\n",
        "        profiles.append(fake.profile())\n",
        "    return profiles"
      ],
      "execution_count": 16,
      "outputs": []
    },
    {
      "cell_type": "code",
      "metadata": {
        "id": "CvzQIHp6IMpX"
      },
      "source": [
        "kk = generate_profiles_using_namedtuple(10)[0:2]"
      ],
      "execution_count": 17,
      "outputs": []
    },
    {
      "cell_type": "code",
      "metadata": {
        "id": "xi5yvOe5Ie8v"
      },
      "source": [
        "@timed\n",
        "def calc_data_using_namedtuple() -> \"namedtuple\":\n",
        "    \"\"\"\n",
        "    calculate the largest blood type, mean-current_location, \n",
        "    oldest_person_age and average age of a generated 1000 profiles using namedtuple\n",
        "    \"\"\"\n",
        "    no_profiles = 10\n",
        "    profiles = generate_profiles_using_namedtuple(no_profiles)\n",
        "    date_today = datetime.date.today()\n",
        "    blood_gp = dict()\n",
        "    max_age = {'age': 0, 'profile': None}\n",
        "    cur_loc_coord_sum = [0, 0]\n",
        "    sum_ages = 0\n",
        "    for profile in profiles:\n",
        "        blood_gp[profile.blood_group] = blood_gp.get(profile.blood_group,0) + 1\n",
        "        age = (date_today - profile.birthdate).days\n",
        "        if  age > max_age['age']:\n",
        "            max_age['age'] = age\n",
        "            max_age['profile'] = profile\n",
        "        cur_loc_coord_sum[0] += profile.current_location[0]\n",
        "        cur_loc_coord_sum[1] += profile.current_location[1]\n",
        "        sum_ages += int(age/365)\n",
        "\n",
        "    data = namedtuple('data', 'largest_blood_type mean_current_location oldest_person average_age')\n",
        "    bg_l = max(blood_gp, key=blood_gp.get)\n",
        "    mean_current_location = (cur_loc_coord_sum[0]/no_profiles, cur_loc_coord_sum[1]/no_profiles)\n",
        "    return data((bg_l, blood_gp[bg_l]), mean_current_location, (max_age['profile'], int(max_age['age']/365)), int(sum_ages/no_profiles))"
      ],
      "execution_count": 18,
      "outputs": []
    },
    {
      "cell_type": "code",
      "metadata": {
        "colab": {
          "base_uri": "https://localhost:8080/"
        },
        "id": "oUyV_FhPWudl",
        "outputId": "64050765-4034-4962-8c0c-89c01372c344"
      },
      "source": [
        "calc_data_using_namedtuple()"
      ],
      "execution_count": 19,
      "outputs": [
        {
          "output_type": "stream",
          "text": [
            "Run time: 0.024991s\n"
          ],
          "name": "stdout"
        },
        {
          "output_type": "execute_result",
          "data": {
            "text/plain": [
              "data(largest_blood_type=('AB+', 4), mean_current_location=(Decimal('13.15927295'), Decimal('-17.0213307')), oldest_person=(Profile(job='Hospital doctor', company='Robinson-Cruz', ssn='120-68-8303', residence='239 Johnathan Isle Apt. 362\\nKathyberg, DE 39675', current_location=(Decimal('-75.584464'), Decimal('41.609550')), blood_group='A-', website=['http://www.salazar.com/'], username='michaelhansen', name='James Simmons', sex='M', address='60483 Shawn Well Apt. 637\\nNew Jennifer, NV 35570', mail='djohnson@yahoo.com', birthdate=datetime.date(1911, 5, 22)), 110), average_age=57)"
            ]
          },
          "metadata": {
            "tags": []
          },
          "execution_count": 19
        }
      ]
    },
    {
      "cell_type": "code",
      "metadata": {
        "id": "ptzVIq_BRpg6"
      },
      "source": [
        "@timed\n",
        "def calc_data_using_dictionary() -> \"Dictionary\":\n",
        "    \"\"\"\n",
        "    calculate the largest blood type, mean-current_location, \n",
        "    oldest_person_age and average age of a generated 1000 profiles using dictionary\n",
        "    \n",
        "    \"\"\"\n",
        "    no_profiles = 10\n",
        "    profiles = generate_profiles_using_dictionary(no_profiles)\n",
        "    date_today = datetime.date.today()\n",
        "    blood_gp = dict()\n",
        "    max_age = {'age': 0, 'proflie': None}\n",
        "    cur_loc_coord_sum = [0, 0]\n",
        "    sum_ages = 0\n",
        "    for profile in profiles:\n",
        "        \n",
        "        blood_gp[profile['blood_group']] = blood_gp.get(profile['blood_group'],0) + 1\n",
        "        age = (date_today - profile['birthdate']).days\n",
        "        if  age > max_age['age']:\n",
        "            max_age['age'] = age\n",
        "            max_age['profile'] = profile\n",
        "        cur_loc_coord_sum[0] += profile['current_location'][0]\n",
        "        cur_loc_coord_sum[1] += profile['current_location'][1]\n",
        "        sum_ages += int(age/365)\n",
        "    bg_l = max(blood_gp, key=blood_gp.get)\n",
        "    mean_current_location = (cur_loc_coord_sum[0]/no_profiles, cur_loc_coord_sum[1]/no_profiles)\n",
        "    return {'largest_blood_type': (bg_l, blood_gp[bg_l]), 'mean_current_location': mean_current_location, 'oldest_person': (max_age['profile'], int(max_age['age']/365)), 'average_age': int(sum_ages/no_profiles)}"
      ],
      "execution_count": 20,
      "outputs": []
    },
    {
      "cell_type": "code",
      "metadata": {
        "colab": {
          "base_uri": "https://localhost:8080/"
        },
        "id": "vgRhs4g1LLV6",
        "outputId": "b8c175d1-d709-4c15-d17d-40c40d34496d"
      },
      "source": [
        "calc_data_using_dictionary()"
      ],
      "execution_count": 21,
      "outputs": [
        {
          "output_type": "stream",
          "text": [
            "Run time: 0.021823s\n"
          ],
          "name": "stdout"
        },
        {
          "output_type": "execute_result",
          "data": {
            "text/plain": [
              "{'average_age': 68,\n",
              " 'largest_blood_type': ('AB-', 3),\n",
              " 'mean_current_location': (Decimal('-17.2673659'), Decimal('-29.3924217')),\n",
              " 'oldest_person': ({'address': 'USS Graham\\nFPO AE 91665',\n",
              "   'birthdate': datetime.date(1906, 1, 3),\n",
              "   'blood_group': 'AB-',\n",
              "   'company': 'Hopkins-Robinson',\n",
              "   'current_location': (Decimal('-65.076633'), Decimal('-147.502707')),\n",
              "   'job': 'Designer, graphic',\n",
              "   'mail': 'dmiller@yahoo.com',\n",
              "   'name': 'Abigail Garcia',\n",
              "   'residence': '4099 Chandler Extension Suite 234\\nPort Michelleville, NH 13763',\n",
              "   'sex': 'F',\n",
              "   'ssn': '005-59-6913',\n",
              "   'username': 'jessica10',\n",
              "   'website': ['https://davis.com/', 'http://www.blair-weaver.com/']},\n",
              "  115)}"
            ]
          },
          "metadata": {
            "tags": []
          },
          "execution_count": 21
        }
      ]
    },
    {
      "cell_type": "code",
      "metadata": {
        "id": "X-6CzmtELLuq",
        "colab": {
          "base_uri": "https://localhost:8080/"
        },
        "outputId": "5a62b5c4-6da1-433e-82c0-54d0b41ba323"
      },
      "source": [
        "def get_capitalized_letters(string):\n",
        "    \"\"\"Returns joined string if characters are upper case\"\"\"\n",
        "    return ''.join(x for x in string if x.isupper())\n",
        "\n",
        "\n",
        "def stock_market():\n",
        "    \"\"\"\n",
        "    To create a fake stock data set for imaginary stock exchange for top 100 companies (name, symbol, open, high, close).\n",
        "    Tasks_ToDo: Assign a random weight to all the companies. Calculate and show what value stock market started at, what was the highest value during the day and where did it end.\n",
        "    \"\"\"\n",
        "    all_companies = []\n",
        "    Stocks = namedtuple(\"Stocks\", 'name symbol open high close company_weight')\n",
        "    for _ in range(100):\n",
        "        name = fake.company()\n",
        "        open_ = round(random.uniform(41, 3999), 2)\n",
        "        high_num = round(random.uniform(0.613, 1.4), 2)  # market is damn volatile\n",
        "        high = open_ * high_num if high_num > 1.0 else open_\n",
        "        close = random.uniform(open_ - random.randint(-10, 10), high + random.randint(-8, 10))\n",
        "        if close > high:\n",
        "            high = close\n",
        "\n",
        "        all_companies.append(\n",
        "            Stocks(name=name, symbol=get_capitalized_letters(name), open=open_, high=round(high, 2), close=round(close, 2), company_weight=round(random.uniform(15, 80), 3)))\n",
        "\n",
        "    stock_index = round(sum(x.open * x.company_weight for x in all_companies), 4)\n",
        "    highest_for_day = round(max(x.high * x.company_weight for x in all_companies), 2)\n",
        "    lowest_close_for_day = round(min(x.close * x.company_weight for x in all_companies), 2)\n",
        "\n",
        "    print(f\"\\n------------------------------------Top 100 listed companies on TSAI Stock Exchange------------------------------------\")\n",
        "    [print(x) for x in sorted(all_companies, key=lambda x:x.symbol)]\n",
        "    print(f\"\\n--------------Main details on {date.today()}--------------\")\n",
        "    print(f\"\\nStock Index: {stock_index}\")\n",
        "    print(f\"Highest for the day: {highest_for_day}\")\n",
        "    print(f\"Lowest close for the day: {lowest_close_for_day}\")\n",
        "\n",
        "\n",
        "stock_market()"
      ],
      "execution_count": 22,
      "outputs": [
        {
          "output_type": "stream",
          "text": [
            "\n",
            "------------------------------------Top 100 listed companies on TSAI Stock Exchange------------------------------------\n",
            "Stocks(name='Adams, Bowers and Perez', symbol='ABP', open=1629.79, high=1988.34, close=1860.21, company_weight=54.705)\n",
            "Stocks(name='Anderson, Burke and Thomas', symbol='ABT', open=1823.01, high=2461.06, close=2252.4, company_weight=21.9)\n",
            "Stocks(name='Adkins PLC', symbol='APLC', open=3082.09, high=3482.76, close=3224.83, company_weight=72.477)\n",
            "Stocks(name='Andrews, Stevenson and Le', symbol='ASL', open=3485.79, high=3486.44, close=3486.44, company_weight=54.629)\n",
            "Stocks(name='Barrett Group', symbol='BG', open=2823.6, high=3529.5, close=3407.77, company_weight=49.184)\n",
            "Stocks(name='Bates Inc', symbol='BI', open=3311.42, high=4503.53, close=4161.57, company_weight=62.467)\n",
            "Stocks(name='Beasley Inc', symbol='BI', open=133.03, high=139.33, close=139.33, company_weight=52.11)\n",
            "Stocks(name='Bullock and Sons', symbol='BS', open=900.81, high=1216.09, close=1090.22, company_weight=76.652)\n",
            "Stocks(name='Bruce, Turner and Keller', symbol='BTK', open=437.34, high=607.9, close=471.27, company_weight=42.481)\n",
            "Stocks(name='Curtis, Allen and Smith', symbol='CAS', open=2780.83, high=2780.83, close=2776.73, company_weight=71.806)\n",
            "Stocks(name='Crawford, Carpenter and Bush', symbol='CCB', open=2121.11, high=2127.06, close=2127.06, company_weight=38.235)\n",
            "Stocks(name='Charles Group', symbol='CG', open=82.74, high=82.74, close=78.85, company_weight=50.243)\n",
            "Stocks(name='Campbell, Greene and Patel', symbol='CGP', open=3553.39, high=3695.53, close=3651.63, company_weight=46.341)\n",
            "Stocks(name='Cummings-Johnson', symbol='CJ', open=760.31, high=821.13, close=759.14, company_weight=23.445)\n",
            "Stocks(name='Casey-Kennedy', symbol='CK', open=3242.39, high=4344.8, close=3318.88, company_weight=30.794)\n",
            "Stocks(name='Camacho-Price', symbol='CP', open=3479.92, high=3482.63, close=3482.63, company_weight=17.491)\n",
            "Stocks(name='Crane PLC', symbol='CPLC', open=2500.57, high=2500.57, close=2495.3, company_weight=55.722)\n",
            "Stocks(name='Campbell, Ruiz and Sanchez', symbol='CRS', open=3721.88, high=3870.76, close=3843.53, company_weight=77.313)\n",
            "Stocks(name='Chapman and Sons', symbol='CS', open=3561.21, high=4487.12, close=3710.64, company_weight=33.091)\n",
            "Stocks(name='Crawford and Sons', symbol='CS', open=1581.98, high=1583.83, close=1583.83, company_weight=73.096)\n",
            "Stocks(name='Carter, Trujillo and Thompson', symbol='CTT', open=152.88, high=196.1, close=196.1, company_weight=51.554)\n",
            "Stocks(name='Daniels and Sons', symbol='DS', open=1653.06, high=2281.22, close=2250.72, company_weight=23.155)\n",
            "Stocks(name='Ellis Inc', symbol='EI', open=3297.15, high=3824.69, close=3647.15, company_weight=52.942)\n",
            "Stocks(name='Freeman-Allen', symbol='FA', open=1076.84, high=1313.74, close=1129.47, company_weight=25.107)\n",
            "Stocks(name='Fry, Evans and Marquez', symbol='FEM', open=1970.16, high=1974.16, close=1974.16, company_weight=40.31)\n",
            "Stocks(name='Fields LLC', symbol='FLLC', open=693.06, high=845.53, close=743.41, company_weight=22.44)\n",
            "Stocks(name='Freeman-Martin', symbol='FM', open=3065.16, high=3586.24, close=3236.11, company_weight=68.575)\n",
            "Stocks(name='Fischer, Smith and Medina', symbol='FSM', open=3385.03, high=3385.24, close=3385.24, company_weight=72.312)\n",
            "Stocks(name='Gutierrez-Carlson', symbol='GC', open=3807.95, high=4950.34, close=4786.18, company_weight=30.917)\n",
            "Stocks(name='Green-Cooley', symbol='GC', open=149.29, high=179.15, close=146.58, company_weight=29.554)\n",
            "Stocks(name='Gomez, Horn and Weber', symbol='GHW', open=800.0, high=800.0, close=793.24, company_weight=52.683)\n",
            "Stocks(name='Hines-Brown', symbol='HB', open=820.41, high=820.91, close=820.91, company_weight=65.449)\n",
            "Stocks(name='Huff Group', symbol='HG', open=939.79, high=942.35, close=942.35, company_weight=40.141)\n",
            "Stocks(name='Howell Inc', symbol='HI', open=3260.37, high=3879.84, close=3842.16, company_weight=74.689)\n",
            "Stocks(name='Harris Ltd', symbol='HL', open=134.67, high=139.29, close=139.29, company_weight=74.829)\n",
            "Stocks(name='Hendricks-Newton', symbol='HN', open=2663.56, high=2823.37, close=2732.06, company_weight=48.801)\n",
            "Stocks(name='Hernandez, Richardson and Ward', symbol='HRW', open=3237.26, high=3245.21, close=3245.21, company_weight=42.305)\n",
            "Stocks(name='Hunt, Smith and Shields', symbol='HSS', open=2933.29, high=3959.94, close=3141.97, company_weight=40.739)\n",
            "Stocks(name='Humphrey-Watts', symbol='HW', open=3721.42, high=3721.42, close=3719.07, company_weight=43.69)\n",
            "Stocks(name='Jones Group', symbol='JG', open=3802.17, high=4752.71, close=4662.38, company_weight=21.99)\n",
            "Stocks(name='Jones, Harvey and Davis', symbol='JHD', open=721.43, high=952.29, close=773.19, company_weight=17.782)\n",
            "Stocks(name='Jacobs, Horn and Sanchez', symbol='JHS', open=1158.01, high=1158.01, close=1155.81, company_weight=24.209)\n",
            "Stocks(name='Johnson-Walker', symbol='JW', open=792.5, high=840.05, close=830.41, company_weight=71.767)\n",
            "Stocks(name='Knight-Lambert', symbol='KL', open=2508.13, high=2859.27, close=2805.46, company_weight=75.128)\n",
            "Stocks(name='Kemp-Parks', symbol='KP', open=1481.53, high=1481.68, close=1481.68, company_weight=23.298)\n",
            "Stocks(name='Kim PLC', symbol='KPLC', open=607.76, high=650.3, close=614.65, company_weight=45.841)\n",
            "Stocks(name='Little, Copeland and Brown', symbol='LCB', open=635.73, high=635.73, close=630.71, company_weight=23.573)\n",
            "Stocks(name='Larson and Sons', symbol='LS', open=1236.43, high=1239.62, close=1239.62, company_weight=74.403)\n",
            "Stocks(name='Lopez-Sawyer', symbol='LS', open=1515.43, high=1712.44, close=1596.0, company_weight=63.378)\n",
            "Stocks(name='Levy and Sons', symbol='LS', open=759.07, high=768.62, close=768.62, company_weight=78.358)\n",
            "Stocks(name='Lopez and Sons', symbol='LS', open=2844.77, high=3385.28, close=2997.22, company_weight=25.472)\n",
            "Stocks(name='Moore-Hart', symbol='MH', open=2332.37, high=2822.17, close=2538.46, company_weight=56.725)\n",
            "Stocks(name='Mendoza Ltd', symbol='ML', open=3090.23, high=4202.71, close=3436.03, company_weight=21.608)\n",
            "Stocks(name='Marshall Ltd', symbol='ML', open=3718.79, high=3718.79, close=3716.73, company_weight=18.943)\n",
            "Stocks(name='Murray PLC', symbol='MPLC', open=2814.12, high=2821.32, close=2821.32, company_weight=56.707)\n",
            "Stocks(name='Meyer, Sanchez and Booker', symbol='MSB', open=3666.86, high=5133.6, close=3815.91, company_weight=37.542)\n",
            "Stocks(name='Norris, Gay and Hart', symbol='NGH', open=1672.37, high=1755.99, close=1689.93, company_weight=16.817)\n",
            "Stocks(name='Neal Ltd', symbol='NL', open=1170.42, high=1178.42, close=1178.42, company_weight=18.612)\n",
            "Stocks(name='Price-Anderson', symbol='PA', open=1621.85, high=1784.04, close=1647.78, company_weight=27.239)\n",
            "Stocks(name='Pineda-Carr', symbol='PC', open=1583.3, high=1931.63, close=1744.26, company_weight=36.898)\n",
            "Stocks(name='Powers, Collier and Hicks', symbol='PCH', open=1939.0, high=2384.97, close=2086.1, company_weight=72.744)\n",
            "Stocks(name='Price-Holland', symbol='PH', open=2185.64, high=2190.8, close=2190.8, company_weight=71.185)\n",
            "Stocks(name='Powell-Morgan', symbol='PM', open=2040.83, high=2449.0, close=2177.38, company_weight=25.577)\n",
            "Stocks(name='Price-Owen', symbol='PO', open=3782.84, high=4804.21, close=4624.6, company_weight=30.284)\n",
            "Stocks(name='Parker and Sons', symbol='PS', open=2530.27, high=2530.27, close=2523.28, company_weight=33.478)\n",
            "Stocks(name='Roberts, Briggs and Stephens', symbol='RBS', open=3632.03, high=4358.44, close=3692.99, company_weight=16.088)\n",
            "Stocks(name='Rogers Inc', symbol='RI', open=787.09, high=788.42, close=788.42, company_weight=67.367)\n",
            "Stocks(name='Rodriguez-Kirby', symbol='RK', open=1635.71, high=1832.0, close=1804.6, company_weight=31.926)\n",
            "Stocks(name='Rodriguez, Knapp and Mills', symbol='RKM', open=3783.37, high=3791.37, close=3791.37, company_weight=51.345)\n",
            "Stocks(name='Richards, Lowery and Castillo', symbol='RLC', open=2625.1, high=2703.85, close=2656.64, company_weight=61.273)\n",
            "Stocks(name='Russell LLC', symbol='RLLC', open=289.29, high=344.26, close=306.16, company_weight=63.169)\n",
            "Stocks(name='Robinson-Singh', symbol='RS', open=215.7, high=289.04, close=241.07, company_weight=56.604)\n",
            "Stocks(name='Ross, Smith and Berry', symbol='RSB', open=996.07, high=1384.54, close=1356.16, company_weight=73.103)\n",
            "Stocks(name='Smith, Anderson and Stokes', symbol='SAS', open=3229.47, high=3584.71, close=3497.92, company_weight=40.267)\n",
            "Stocks(name='Strong-Ball', symbol='SB', open=2945.82, high=2950.06, close=2950.06, company_weight=18.324)\n",
            "Stocks(name='Stokes-Cantrell', symbol='SC', open=2163.0, high=2170.2, close=2170.2, company_weight=61.451)\n",
            "Stocks(name='Smith-Cooper', symbol='SC', open=2191.29, high=2235.12, close=2218.44, company_weight=49.465)\n",
            "Stocks(name='Smith Group', symbol='SG', open=665.71, high=666.48, close=666.48, company_weight=28.029)\n",
            "Stocks(name='Soto-Jones', symbol='SJ', open=811.74, high=820.36, close=820.36, company_weight=42.894)\n",
            "Stocks(name='Savage-Lynch', symbol='SL', open=776.57, high=776.57, close=767.44, company_weight=36.118)\n",
            "Stocks(name='Sanchez, Maynard and Schultz', symbol='SMS', open=2263.39, high=2263.39, close=2253.82, company_weight=77.984)\n",
            "Stocks(name='Sloan-Price', symbol='SP', open=3699.23, high=4698.02, close=4221.65, company_weight=36.776)\n",
            "Stocks(name='Spencer, Powers and Pearson', symbol='SPP', open=1769.59, high=2353.55, close=2031.41, company_weight=72.531)\n",
            "Stocks(name='Schaefer-Sparks', symbol='SS', open=1558.42, high=1558.42, close=1555.92, company_weight=40.895)\n",
            "Stocks(name='Smith, Wilcox and Jackson', symbol='SWJ', open=116.08, high=120.75, close=120.75, company_weight=66.043)\n",
            "Stocks(name='Tran, Camacho and Bean', symbol='TCB', open=455.67, high=459.52, close=459.52, company_weight=68.129)\n",
            "Stocks(name='Taylor-Porter', symbol='TP', open=2443.82, high=2444.29, close=2444.29, company_weight=55.646)\n",
            "Stocks(name='Torres-Powell', symbol='TP', open=42.45, high=43.74, close=43.74, company_weight=54.142)\n",
            "Stocks(name='Villanueva LLC', symbol='VLLC', open=2995.06, high=2995.06, close=2993.56, company_weight=72.02)\n",
            "Stocks(name='Wiley, Cole and Harrison', symbol='WCH', open=1078.32, high=1218.5, close=1093.11, company_weight=43.824)\n",
            "Stocks(name='Wright-Hendrix', symbol='WH', open=2685.29, high=3088.08, close=2952.61, company_weight=29.943)\n",
            "Stocks(name='Wright LLC', symbol='WLLC', open=3140.16, high=3145.56, close=3145.56, company_weight=72.963)\n",
            "Stocks(name='Wilson LLC', symbol='WLLC', open=1822.98, high=1914.13, close=1840.42, company_weight=73.572)\n",
            "Stocks(name='Wood, Reilly and Holder', symbol='WRH', open=1482.16, high=1482.16, close=1481.66, company_weight=67.304)\n",
            "Stocks(name='Webb and Sons', symbol='WS', open=1561.83, high=1562.33, close=1562.33, company_weight=67.081)\n",
            "Stocks(name='Wolf, Taylor and Moore', symbol='WTM', open=1986.1, high=2025.82, close=1992.38, company_weight=45.474)\n",
            "Stocks(name='Williams, Wilson and Rice', symbol='WWR', open=2989.81, high=2989.81, close=2989.7, company_weight=17.285)\n",
            "Stocks(name='Young-Baker', symbol='YB', open=2847.21, high=3160.4, close=2949.42, company_weight=70.267)\n",
            "Stocks(name='Young, Garcia and Mann', symbol='YGM', open=1234.46, high=1241.26, close=1241.26, company_weight=72.767)\n",
            "Stocks(name='Young, Smith and Dennis', symbol='YSD', open=3229.88, high=3238.54, close=3238.54, company_weight=65.575)\n",
            "\n",
            "--------------Main details on 2021-07-09--------------\n",
            "\n",
            "Stock Index: 9527782.6792\n",
            "Highest for the day: 299260.07\n",
            "Lowest close for the day: 2368.17\n"
          ],
          "name": "stdout"
        }
      ]
    }
  ]
}